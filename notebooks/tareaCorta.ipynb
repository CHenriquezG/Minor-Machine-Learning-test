{
  "nbformat": 4,
  "nbformat_minor": 0,
  "metadata": {
    "colab": {
      "name": "Untitled0.ipynb",
      "provenance": [],
      "authorship_tag": "ABX9TyPuTOR6kOhHfjRZT6aIgBNO",
      "include_colab_link": true
    },
    "kernelspec": {
      "name": "python3",
      "display_name": "Python 3"
    },
    "language_info": {
      "name": "python"
    }
  },
  "cells": [
    {
      "cell_type": "markdown",
      "metadata": {
        "id": "view-in-github",
        "colab_type": "text"
      },
      "source": [
        "<a href=\"https://colab.research.google.com/github/CHenriquezG/Minor-Machine-Learning-test/blob/main/notebooks/tareaCorta.ipynb\" target=\"_parent\"><img src=\"https://colab.research.google.com/assets/colab-badge.svg\" alt=\"Open In Colab\"/></a>"
      ]
    },
    {
      "cell_type": "code",
      "execution_count": null,
      "metadata": {
        "id": "9nIXzuDWUF-u"
      },
      "outputs": [],
      "source": [
        "import numpy as np\n",
        "import matplotlib.pyplot as plt"
      ]
    },
    {
      "cell_type": "code",
      "source": [
        "A = np.matrix([[2,1],[1,3]])\n",
        "A"
      ],
      "metadata": {
        "colab": {
          "base_uri": "https://localhost:8080/"
        },
        "id": "2bWvOQTvSUiA",
        "outputId": "44fba09b-60f4-41a7-aeca-b29d9c29bec4"
      },
      "execution_count": null,
      "outputs": [
        {
          "output_type": "execute_result",
          "data": {
            "text/plain": [
              "matrix([[2, 1],\n",
              "        [1, 3]])"
            ]
          },
          "metadata": {},
          "execution_count": 6
        }
      ]
    },
    {
      "cell_type": "code",
      "source": [
        "B = np.matrix([[32],[36]])\n",
        "B"
      ],
      "metadata": {
        "colab": {
          "base_uri": "https://localhost:8080/"
        },
        "id": "ZM9kfK_kSSZG",
        "outputId": "41ad309b-d804-495e-f11a-8ee4bd1efbcf"
      },
      "execution_count": null,
      "outputs": [
        {
          "output_type": "execute_result",
          "data": {
            "text/plain": [
              "matrix([[32],\n",
              "        [36]])"
            ]
          },
          "metadata": {},
          "execution_count": 7
        }
      ]
    },
    {
      "cell_type": "markdown",
      "source": [
        "$x=A^{-1} B$"
      ],
      "metadata": {
        "id": "W6DopuHGSxVG"
      }
    },
    {
      "cell_type": "code",
      "source": [
        "R=(A**-1)*B\n",
        "R"
      ],
      "metadata": {
        "colab": {
          "base_uri": "https://localhost:8080/"
        },
        "id": "j9tofMvUSK8C",
        "outputId": "396e7957-c67f-4386-a214-bf3a4a152093"
      },
      "execution_count": null,
      "outputs": [
        {
          "output_type": "execute_result",
          "data": {
            "text/plain": [
              "matrix([[12.],\n",
              "        [ 8.]])"
            ]
          },
          "metadata": {},
          "execution_count": 8
        }
      ]
    },
    {
      "cell_type": "code",
      "source": [
        "t = np.linspace(0, 5, 6) # start, finish, n point\n",
        "t"
      ],
      "metadata": {
        "colab": {
          "base_uri": "https://localhost:8080/"
        },
        "id": "eiTF_O2zdujL",
        "outputId": "8a57e77d-a811-42cf-8763-0936b456f333"
      },
      "execution_count": 15,
      "outputs": [
        {
          "output_type": "execute_result",
          "data": {
            "text/plain": [
              "array([0., 1., 2., 3., 4., 5.])"
            ]
          },
          "metadata": {},
          "execution_count": 15
        }
      ]
    },
    {
      "cell_type": "code",
      "source": [
        "x1 = t*12\n",
        "x1\n"
      ],
      "metadata": {
        "colab": {
          "base_uri": "https://localhost:8080/"
        },
        "id": "WzEijEiUeIL9",
        "outputId": "a74adb5f-46bc-4043-aec8-df1c98569091"
      },
      "execution_count": 16,
      "outputs": [
        {
          "output_type": "execute_result",
          "data": {
            "text/plain": [
              "array([ 0., 12., 24., 36., 48., 60.])"
            ]
          },
          "metadata": {},
          "execution_count": 16
        }
      ]
    },
    {
      "cell_type": "code",
      "source": [
        "y1 = t*8\n",
        "y1"
      ],
      "metadata": {
        "colab": {
          "base_uri": "https://localhost:8080/"
        },
        "id": "JWb8UyVaeTr1",
        "outputId": "bcee130a-76ea-4259-ad73-f58dce373624"
      },
      "execution_count": 19,
      "outputs": [
        {
          "output_type": "execute_result",
          "data": {
            "text/plain": [
              "array([ 0.,  8., 16., 24., 32., 40.])"
            ]
          },
          "metadata": {},
          "execution_count": 19
        }
      ]
    },
    {
      "cell_type": "code",
      "source": [
        "fig, ax = plt.subplots()\n",
        "plt.title('A Bank Robber Caught')\n",
        "plt.xlabel('time (in minutes)')\n",
        "plt.ylabel('distance (in km)')\n",
        "ax.set_xlim([0, 5])\n",
        "ax.set_ylim([0, 60])\n",
        "ax.plot(t, y1, c='green')\n",
        "ax.plot(t, x1, c='blue')\n",
        "\n",
        "plt.axhline(y=24, color='red', linestyle='--')\n",
        "_ = plt.axvline(x=2, color='red', linestyle='--')\n",
        "plt.axhline(y=8, color='purple', linestyle='--')\n",
        "_ = plt.axvline(x=1, color='purple', linestyle='--')\n",
        "\n",
        "plt.axhline(y=12, color='blue', linestyle='--')\n",
        "_ = plt.axvline(x=1, color='blue', linestyle='--')\n",
        "plt.axhline(y=24, color='black', linestyle='--')\n",
        "_ = plt.axvline(x=3, color='black', linestyle='--')\n",
        "\n",
        "\n",
        "plt.plot(A, R)"
      ],
      "metadata": {
        "colab": {
          "base_uri": "https://localhost:8080/",
          "height": 331
        },
        "id": "1A1GOaCUZucO",
        "outputId": "7660dcb6-adae-40df-d3d1-b8969b5e0858"
      },
      "execution_count": 54,
      "outputs": [
        {
          "output_type": "execute_result",
          "data": {
            "text/plain": [
              "[<matplotlib.lines.Line2D at 0x7f44535be250>,\n",
              " <matplotlib.lines.Line2D at 0x7f44535b1fd0>]"
            ]
          },
          "metadata": {},
          "execution_count": 54
        },
        {
          "output_type": "display_data",
          "data": {
            "text/plain": [
              "<Figure size 432x288 with 1 Axes>"
            ],
            "image/png": "[encoded data removed]"
          },
          "metadata": {
            "needs_background": "light"
          }
        }
      ]
    }
  ]
}